{
 "cells": [
  {
   "cell_type": "code",
   "execution_count": 10,
   "id": "bd647493",
   "metadata": {},
   "outputs": [
    {
     "name": "stdout",
     "output_type": "stream",
     "text": [
      "Warning: Looks like you're using an outdated `kagglehub` version (installed: 0.3.10), please consider upgrading to the latest version (0.3.12).\n",
      "Path to dataset files: C:\\Users\\user\\.cache\\kagglehub\\datasets\\harishkumardatalab\\housing-price-prediction\\versions\\1\n"
     ]
    }
   ],
   "source": [
    "import kagglehub\n",
    "\n",
    "# Download latest version\n",
    "path = kagglehub.dataset_download(\"harishkumardatalab/housing-price-prediction\")\n",
    "\n",
    "print(\"Path to dataset files:\", path)"
   ]
  },
  {
   "cell_type": "code",
   "execution_count": 11,
   "id": "7f36dcfb",
   "metadata": {},
   "outputs": [],
   "source": [
    "import os\n",
    "import pandas as pd\n",
    "import numpy as np\n",
    "import matplotlib.pyplot as plt"
   ]
  },
  {
   "cell_type": "code",
   "execution_count": 12,
   "id": "1f5957dd",
   "metadata": {},
   "outputs": [
    {
     "name": "stdout",
     "output_type": "stream",
     "text": [
      "['Housing.csv']\n"
     ]
    }
   ],
   "source": [
    "print(os.listdir(path))"
   ]
  },
  {
   "cell_type": "code",
   "execution_count": 13,
   "id": "55a61c46",
   "metadata": {},
   "outputs": [],
   "source": [
    "file_path=os.path.join(path,'Housing.csv')\n",
    "df=pd.read_csv(file_path)"
   ]
  },
  {
   "cell_type": "code",
   "execution_count": 14,
   "id": "ceeb9f2a",
   "metadata": {},
   "outputs": [
    {
     "name": "stdout",
     "output_type": "stream",
     "text": [
      "      price  area  bedrooms  bathrooms  stories mainroad guestroom basement  \\\n",
      "0  13300000  7420         4          2        3      yes        no       no   \n",
      "1  12250000  8960         4          4        4      yes        no       no   \n",
      "2  12250000  9960         3          2        2      yes        no      yes   \n",
      "3  12215000  7500         4          2        2      yes        no      yes   \n",
      "4  11410000  7420         4          1        2      yes       yes      yes   \n",
      "\n",
      "  hotwaterheating airconditioning  parking prefarea furnishingstatus  \n",
      "0              no             yes        2      yes        furnished  \n",
      "1              no             yes        3       no        furnished  \n",
      "2              no              no        2      yes   semi-furnished  \n",
      "3              no             yes        3      yes        furnished  \n",
      "4              no             yes        2       no        furnished  \n"
     ]
    }
   ],
   "source": [
    "print(df.head())"
   ]
  },
  {
   "cell_type": "code",
   "execution_count": 15,
   "id": "74a08a62",
   "metadata": {},
   "outputs": [
    {
     "name": "stdout",
     "output_type": "stream",
     "text": [
      "price               0\n",
      "area                0\n",
      "bedrooms            0\n",
      "bathrooms           0\n",
      "stories             0\n",
      "mainroad            0\n",
      "guestroom           0\n",
      "basement            0\n",
      "hotwaterheating     0\n",
      "airconditioning     0\n",
      "parking             0\n",
      "prefarea            0\n",
      "furnishingstatus    0\n",
      "dtype: int64\n"
     ]
    }
   ],
   "source": [
    "print(df.isna().sum())"
   ]
  },
  {
   "cell_type": "code",
   "execution_count": 16,
   "id": "2b8ff109",
   "metadata": {},
   "outputs": [],
   "source": [
    "from sklearn.preprocessing import LabelEncoder\n",
    "le=LabelEncoder()\n",
    "cols=['mainroad','hotwaterheating','airconditioning','prefarea','guestroom', 'basement','furnishingstatus']\n",
    "for i in cols:\n",
    "    df[i]=le.fit_transform(df[i])\n",
    "    "
   ]
  },
  {
   "cell_type": "markdown",
   "id": "83f43d84",
   "metadata": {},
   "source": [
    "SIMPLE REGRESSION"
   ]
  },
  {
   "cell_type": "code",
   "execution_count": 17,
   "id": "3711a76a",
   "metadata": {},
   "outputs": [],
   "source": [
    "from sklearn.model_selection import train_test_split\n",
    "from sklearn.linear_model import LinearRegression    \n",
    "x=df[['area']]\n",
    "y=df['price']\n",
    "X_train,X_test,Y_train,Y_test=train_test_split(x,y,test_size=0.2,random_state=0)\n",
    "model1=LinearRegression()\n",
    "model1.fit(X_train,Y_train)\n",
    "y_pred1=model1.predict(X_test)\n"
   ]
  },
  {
   "cell_type": "markdown",
   "id": "df059788",
   "metadata": {},
   "source": [
    "MULTIPLE LINEAR REGRESSION"
   ]
  },
  {
   "cell_type": "code",
   "execution_count": 18,
   "id": "5148dc22",
   "metadata": {},
   "outputs": [],
   "source": [
    "x1=df.drop(columns=['price'])\n",
    "y2=df['price']\n",
    "X1_train,X2_test,Y1_train,Y2_test=train_test_split(x1,y2,test_size=0.2,random_state=0)\n",
    "model2=LinearRegression()\n",
    "model2.fit(X1_train,Y1_train)\n",
    "y_pred2=model2.predict(X2_test)\n"
   ]
  },
  {
   "cell_type": "markdown",
   "id": "90b86549",
   "metadata": {},
   "source": [
    "EVALUATION"
   ]
  },
  {
   "cell_type": "code",
   "execution_count": 23,
   "id": "34c3e715",
   "metadata": {},
   "outputs": [
    {
     "name": "stdout",
     "output_type": "stream",
     "text": [
      "SIMPLE REGRESSION\n",
      "MAE:  1026553.7662016951\n",
      " MSE: 1997672371756.0862\n",
      " R2: 0.3067292122216638\n",
      "MULTIPLE REGRESSION\n",
      "MAE:  716583.439661547\n",
      " MSE: 986041803890.027\n",
      " R2: 0.6578047592637595\n"
     ]
    }
   ],
   "source": [
    "from sklearn.metrics import mean_absolute_error,mean_squared_error,r2_score\n",
    "#SIMPLE REGRESSION\n",
    "mae=mean_absolute_error(Y_test,y_pred1)\n",
    "mse=mean_squared_error(Y_test,y_pred1)\n",
    "r2=r2_score(Y_test,y_pred1)\n",
    "print('SIMPLE REGRESSION')\n",
    "print(f'MAE:  {mae}\\n MSE: {mse}\\n R2: {r2}')\n",
    "\n",
    "#MULTIPLE REGRESSION\n",
    "mae1=mean_absolute_error(Y2_test,y_pred2)\n",
    "mse1=mean_squared_error(Y2_test,y_pred2)\n",
    "r2_1=r2_score(Y2_test,y_pred2)\n",
    "print('MULTIPLE REGRESSION')\n",
    "print(f'MAE:  {mae1}\\n MSE: {mse1}\\n R2: {r2_1}')\n",
    "\n"
   ]
  },
  {
   "cell_type": "markdown",
   "id": "3f1e886a",
   "metadata": {},
   "source": [
    "REGRESSION LINE (test_set)"
   ]
  },
  {
   "cell_type": "code",
   "execution_count": 21,
   "id": "9f356015",
   "metadata": {},
   "outputs": [
    {
     "data": {
      "image/png": "[encoded data removed]",
      "text/plain": [
       "<Figure size 640x480 with 1 Axes>"
      ]
     },
     "metadata": {},
     "output_type": "display_data"
    },
    {
     "data": {
      "image/png": "[encoded data removed]",
      "text/plain": [
       "<Figure size 640x480 with 1 Axes>"
      ]
     },
     "metadata": {},
     "output_type": "display_data"
    }
   ],
   "source": [
    "# For simple regression\n",
    "plt.scatter(Y_test, y_pred1, color='purple')\n",
    "plt.xlabel(\"Actual Prices\")\n",
    "plt.ylabel(\"Predicted Prices\")\n",
    "plt.title(\"Actual vs Predicted (Simple Regression)\")\n",
    "plt.show()\n",
    "\n",
    "# For multiple regression (price only)\n",
    "plt.scatter(Y2_test, y_pred2, color='orange')\n",
    "plt.xlabel(\"Actual Prices\")\n",
    "plt.ylabel(\"Predicted Prices\")\n",
    "plt.title(\"Actual vs Predicted (Multiple Regression)\")\n",
    "plt.show()\n"
   ]
  },
  {
   "cell_type": "markdown",
   "id": "3e0078aa",
   "metadata": {},
   "source": [
    "interpret coefficients  and  INTERCEPT"
   ]
  },
  {
   "cell_type": "code",
   "execution_count": 22,
   "id": "418a0da6",
   "metadata": {},
   "outputs": [
    {
     "name": "stdout",
     "output_type": "stream",
     "text": [
      "Coefficient and intercept of simple regression\n",
      " [475.26784571]\n",
      "2329244.913495151\n",
      "Coefficient and intercept of multiple regression\n",
      " [ 2.53732234e+02  1.26430216e+05  1.00306572e+06  4.31159234e+05\n",
      "  4.34983941e+05  3.95198712e+05  3.30288607e+05  1.20896581e+06\n",
      "  8.59967238e+05  2.20086777e+05  6.93749764e+05 -2.55656836e+05]\n",
      "104406.20866453275\n"
     ]
    }
   ],
   "source": [
    "print('Coefficient and intercept of simple regression\\n', model1.coef_)     \n",
    "print(model1.intercept_)\n",
    "print('Coefficient and intercept of multiple regression\\n',model2.coef_)    \n",
    "print(model2.intercept_)"
   ]
  }
 ],
 "metadata": {
  "kernelspec": {
   "display_name": "myenv",
   "language": "python",
   "name": "python3"
  },
  "language_info": {
   "codemirror_mode": {
    "name": "ipython",
    "version": 3
   },
   "file_extension": ".py",
   "mimetype": "text/x-python",
   "name": "python",
   "nbconvert_exporter": "python",
   "pygments_lexer": "ipython3",
   "version": "3.11.9"
  }
 },
 "nbformat": 4,
 "nbformat_minor": 5
}
